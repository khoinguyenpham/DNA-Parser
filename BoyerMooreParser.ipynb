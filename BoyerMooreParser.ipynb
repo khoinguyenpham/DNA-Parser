{
 "cells": [
  {
   "cell_type": "markdown",
   "metadata": {},
   "source": [
    "#Algorithms for DNA Sequencing\n",
    "![Cardiotoxicity](https://d3njjcbhbojbot.cloudfront.net/api/utilities/v1/imageproxy/https://d15cw65ipctsrr.cloudfront.net/0d/70fa70056211e5a90571fac85e36f5/genomics_algorithms.jpg?auto=format&dpr=1&w=290&h=165&fit=crop)\n"
   ]
  },
  {
   "cell_type": "markdown",
   "metadata": {},
   "source": [
    "#Programming Homework 2"
   ]
  },
  {
   "cell_type": "markdown",
   "metadata": {},
   "source": [
    "#Build a class of Boyer-Moore algorithm to index the pattern"
   ]
  },
  {
   "cell_type": "code",
   "execution_count": 1,
   "metadata": {
    "collapsed": false
   },
   "outputs": [],
   "source": [
    "#!/usr/bin/env python\n",
    "\n",
    "\"\"\"bm_preproc.py: Boyer-Moore preprocessing.\"\"\"\n",
    "\n",
    "__author__ = \"Ben Langmead\"\n",
    "\n",
    "import unittest\n",
    "\n",
    "\n",
    "def z_array(s):\n",
    "    \"\"\" Use Z algorithm (Gusfield theorem 1.4.1) to preprocess s \"\"\"\n",
    "    assert len(s) > 1\n",
    "    z = [len(s)] + [0] * (len(s)-1)\n",
    "\n",
    "    # Initial comparison of s[1:] with prefix\n",
    "    for i in range(1, len(s)):\n",
    "        if s[i] == s[i-1]:\n",
    "            z[1] += 1\n",
    "        else:\n",
    "            break\n",
    "\n",
    "    r, l = 0, 0\n",
    "    if z[1] > 0:\n",
    "        r, l = z[1], 1\n",
    "\n",
    "    for k in range(2, len(s)):\n",
    "        assert z[k] == 0\n",
    "        if k > r:\n",
    "            # Case 1\n",
    "            for i in range(k, len(s)):\n",
    "                if s[i] == s[i-k]:\n",
    "                    z[k] += 1\n",
    "                else:\n",
    "                    break\n",
    "            r, l = k + z[k] - 1, k\n",
    "        else:\n",
    "            # Case 2\n",
    "            # Calculate length of beta\n",
    "            nbeta = r - k + 1\n",
    "            zkp = z[k - l]\n",
    "            if nbeta > zkp:\n",
    "                # Case 2a: zkp wins\n",
    "                z[k] = zkp\n",
    "            else:\n",
    "                # Case 2b: Compare characters just past r\n",
    "                nmatch = 0\n",
    "                for i in range(r+1, len(s)):\n",
    "                    if s[i] == s[i - k]:\n",
    "                        nmatch += 1\n",
    "                    else:\n",
    "                        break\n",
    "                l, r = k, r + nmatch\n",
    "                z[k] = r - k + 1\n",
    "    return z\n",
    "\n",
    "\n",
    "def n_array(s):\n",
    "    \"\"\" Compile the N array (Gusfield theorem 2.2.2) from the Z array \"\"\"\n",
    "    return z_array(s[::-1])[::-1]\n",
    "\n",
    "\n",
    "def big_l_prime_array(p, n):\n",
    "    \"\"\" Compile L' array (Gusfield theorem 2.2.2) using p and N array.\n",
    "        L'[i] = largest index j less than n such that N[j] = |P[i:]| \"\"\"\n",
    "    lp = [0] * len(p)\n",
    "    for j in range(len(p)-1):\n",
    "        i = len(p) - n[j]\n",
    "        if i < len(p):\n",
    "            lp[i] = j + 1\n",
    "    return lp\n",
    "\n",
    "\n",
    "def big_l_array(p, lp):\n",
    "    \"\"\" Compile L array (Gusfield theorem 2.2.2) using p and L' array.\n",
    "        L[i] = largest index j less than n such that N[j] >= |P[i:]| \"\"\"\n",
    "    l = [0] * len(p)\n",
    "    l[1] = lp[1]\n",
    "    for i in range(2, len(p)):\n",
    "        l[i] = max(l[i-1], lp[i])\n",
    "    return l\n",
    "\n",
    "\n",
    "def small_l_prime_array(n):\n",
    "    \"\"\" Compile lp' array (Gusfield theorem 2.2.4) using N array. \"\"\"\n",
    "    small_lp = [0] * len(n)\n",
    "    for i in range(len(n)):\n",
    "        if n[i] == i+1:  # prefix matching a suffix\n",
    "            small_lp[len(n)-i-1] = i+1\n",
    "    for i in range(len(n)-2, -1, -1):  # \"smear\" them out to the left\n",
    "        if small_lp[i] == 0:\n",
    "            small_lp[i] = small_lp[i+1]\n",
    "    return small_lp\n",
    "\n",
    "\n",
    "def good_suffix_table(p):\n",
    "    \"\"\" Return tables needed to apply good suffix rule. \"\"\"\n",
    "    n = n_array(p)\n",
    "    lp = big_l_prime_array(p, n)\n",
    "    return lp, big_l_array(p, lp), small_l_prime_array(n)\n",
    "\n",
    "\n",
    "def good_suffix_mismatch(i, big_l_prime, small_l_prime):\n",
    "    \"\"\" Given a mismatch at offset i, and given L/L' and l' arrays,\n",
    "        return amount to shift as determined by good suffix rule. \"\"\"\n",
    "    length = len(big_l_prime)\n",
    "    assert i < length\n",
    "    if i == length - 1:\n",
    "        return 0\n",
    "    i += 1  # i points to leftmost matching position of P\n",
    "    if big_l_prime[i] > 0:\n",
    "        return length - big_l_prime[i]\n",
    "    return length - small_l_prime[i]\n",
    "\n",
    "\n",
    "def good_suffix_match(small_l_prime):\n",
    "    \"\"\" Given a full match of P to T, return amount to shift as\n",
    "        determined by good suffix rule. \"\"\"\n",
    "    return len(small_l_prime) - small_l_prime[1]\n",
    "\n",
    "\n",
    "def dense_bad_char_tab(p, amap):\n",
    "    \"\"\" Given pattern string and list with ordered alphabet characters, create\n",
    "        and return a dense bad character table.  Table is indexed by offset\n",
    "        then by character. \"\"\"\n",
    "    tab = []\n",
    "    nxt = [0] * len(amap)\n",
    "    for i in range(0, len(p)):\n",
    "        c = p[i]\n",
    "        assert c in amap\n",
    "        tab.append(nxt[:])\n",
    "        nxt[amap[c]] = i+1\n",
    "    return tab\n",
    "\n",
    "\n",
    "class BoyerMoore(object):\n",
    "    \"\"\" Encapsulates pattern and associated Boyer-Moore preprocessing. \"\"\"\n",
    "\n",
    "    def __init__(self, p, alphabet='ACGT'):\n",
    "        # Create map from alphabet characters to integers\n",
    "        self.amap = {alphabet[i]: i for i in range(len(alphabet))}\n",
    "        # Make bad character rule table\n",
    "        self.bad_char = dense_bad_char_tab(p, self.amap)\n",
    "        # Create good suffix rule table\n",
    "        _, self.big_l, self.small_l_prime = good_suffix_table(p)\n",
    "\n",
    "    def bad_character_rule(self, i, c):\n",
    "        \"\"\" Return # skips given by bad character rule at offset i \"\"\"\n",
    "        assert c in self.amap\n",
    "        assert i < len(self.bad_char)\n",
    "        ci = self.amap[c]\n",
    "        return i - (self.bad_char[i][ci]-1)\n",
    "\n",
    "    def good_suffix_rule(self, i):\n",
    "        \"\"\" Given a mismatch at offset i, return amount to shift\n",
    "            as determined by (weak) good suffix rule. \"\"\"\n",
    "        length = len(self.big_l)\n",
    "        assert i < length\n",
    "        if i == length - 1:\n",
    "            return 0\n",
    "        i += 1  # i points to leftmost matching position of P\n",
    "        if self.big_l[i] > 0:\n",
    "            return length - self.big_l[i]\n",
    "        return length - self.small_l_prime[i]\n",
    "\n",
    "    def match_skip(self):\n",
    "        \"\"\" Return amount to shift in case where P matches T \"\"\"\n",
    "        return len(self.small_l_prime) - self.small_l_prime[1]\n",
    "\n",
    "\n",
    "class TestBoyerMoorePreproc(unittest.TestCase):\n",
    "\n",
    "    def test_z_1(self):\n",
    "        s = 'abb'\n",
    "        #    -00\n",
    "        z = z_array(s)\n",
    "        self.assertEqual([3, 0, 0], z)\n",
    "\n",
    "    def test_z_2(self):\n",
    "        s = 'abababab'\n",
    "        #    00604020\n",
    "        z = z_array(s)\n",
    "        self.assertEqual([8, 0, 6, 0, 4, 0, 2, 0], z)\n",
    "\n",
    "    def test_z_3(self):\n",
    "        s = 'abababab'\n",
    "        #    00604020\n",
    "        z = z_array(s)\n",
    "        self.assertEqual([8, 0, 6, 0, 4, 0, 2, 0], z)\n",
    "\n",
    "    def test_n_1(self):\n",
    "        s = 'abb'\n",
    "        #    01-\n",
    "        n = n_array(s)\n",
    "        self.assertEqual([0, 1, 3], n)\n",
    "\n",
    "    def test_n_2(self):\n",
    "        s = 'abracadabra'\n",
    "        #    1004010100-\n",
    "        n = n_array(s)\n",
    "        self.assertEqual([1, 0, 0, 4, 0, 1, 0, 1, 0, 0, 11], n)\n",
    "\n",
    "    def test_n_3(self):\n",
    "        s = 'abababab'\n",
    "        #    0204060-\n",
    "        n = n_array(s)\n",
    "        self.assertEqual([0, 2, 0, 4, 0, 6, 0, 8], n)\n",
    "\n",
    "    def test_big_l_prime_1(self):\n",
    "        s = 'abb'\n",
    "        #    001\n",
    "        big_l_prime = big_l_prime_array(s, n_array(s))\n",
    "        self.assertEqual([0, 0, 2], big_l_prime)\n",
    "\n",
    "    def test_big_l_prime_2(self):\n",
    "        s = 'abracadabra'\n",
    "        #    01234567890\n",
    "        # L' 00000003007\n",
    "        # L  00000003337\n",
    "        big_l_prime = big_l_prime_array(s, n_array(s))\n",
    "        self.assertEqual([0, 0, 0, 0, 0, 0, 0, 4, 0, 0, 8], big_l_prime)\n",
    "\n",
    "    def test_small_l_prime_1(self):\n",
    "        s = 'abracadabra'\n",
    "        # N  1004010100-\n",
    "        # l'           1\n",
    "        # l'        4\n",
    "        # l' 44444444111\n",
    "        small_l_prime = small_l_prime_array(n_array(s))\n",
    "        self.assertEqual([11, 4, 4, 4, 4, 4, 4, 4, 1, 1, 1], small_l_prime)\n",
    "\n",
    "    def test_good_suffix_match_mismatch_1(self):\n",
    "        p = 'GGTAGGT'\n",
    "        big_l_prime, big_l, small_l_prime = good_suffix_table(p)\n",
    "        self.assertEqual([0, 0, 0, 0, 3, 0, 0], big_l_prime)\n",
    "        self.assertEqual([0, 0, 0, 0, 3, 3, 3], big_l)\n",
    "        self.assertEqual([7, 3, 3, 3, 3, 0, 0], small_l_prime)\n",
    "        self.assertEqual(0, good_suffix_mismatch(6, big_l_prime, small_l_prime))\n",
    "        self.assertEqual(0, good_suffix_mismatch(6, big_l, small_l_prime))\n",
    "        #  t:      xT\n",
    "        #  p: GGTAGGT\n",
    "        # L': -000300\n",
    "        #  L: -000333\n",
    "        self.assertEqual(7, good_suffix_mismatch(5, big_l_prime, small_l_prime))\n",
    "        self.assertEqual(4, good_suffix_mismatch(5, big_l, small_l_prime))\n",
    "        #  t:     xGT\n",
    "        #  p: GGTAGGT\n",
    "        # L': -000300\n",
    "        #  L: -000333\n",
    "        self.assertEqual(7, good_suffix_mismatch(4, big_l_prime, small_l_prime))\n",
    "        self.assertEqual(4, good_suffix_mismatch(4, big_l, small_l_prime))\n",
    "        #  t:    xGGT\n",
    "        #  p: GGTAGGT\n",
    "        # L': -000300\n",
    "        #  L: -000333\n",
    "        self.assertEqual(4, good_suffix_mismatch(3, big_l_prime, small_l_prime))\n",
    "        self.assertEqual(4, good_suffix_mismatch(3, big_l, small_l_prime))\n",
    "        #  t:   xAGGT\n",
    "        #  p: GGTAGGT\n",
    "        # L': -000300\n",
    "        #  L: -000333\n",
    "        self.assertEqual(4, good_suffix_mismatch(2, big_l_prime, small_l_prime))\n",
    "        self.assertEqual(4, good_suffix_mismatch(2, big_l, small_l_prime))\n",
    "        #  t:  xTAGGT\n",
    "        #  p: GGTAGGT\n",
    "        # L': -000300\n",
    "        #  L: -000333\n",
    "        self.assertEqual(4, good_suffix_mismatch(1, big_l_prime, small_l_prime))\n",
    "        self.assertEqual(4, good_suffix_mismatch(1, big_l, small_l_prime))\n",
    "        #  t: xGTAGGT\n",
    "        #  p: GGTAGGT\n",
    "        # L': -000300\n",
    "        #  L: -000333\n",
    "        self.assertEqual(4, good_suffix_mismatch(0, big_l_prime, small_l_prime))\n",
    "        self.assertEqual(4, good_suffix_mismatch(0, big_l, small_l_prime))\n",
    "\n",
    "    def test_good_suffix_table_1(self):\n",
    "        s = 'abb'\n",
    "        #    001\n",
    "        big_l_prime, big_l, small_l_prime = good_suffix_table(s)\n",
    "        self.assertEqual([0, 0, 2], big_l_prime)\n",
    "        self.assertEqual([0, 0, 2], big_l)\n",
    "        self.assertEqual([3, 0, 0], small_l_prime)\n",
    "\n",
    "    def test_good_suffix_table_2(self):\n",
    "        s = 'abracadabra'\n",
    "        #    01234567890\n",
    "        # L' 00000003007\n",
    "        # L  00000003337\n",
    "        # l' -4444444111\n",
    "        big_l_prime, big_l, small_l_prime = good_suffix_table(s)\n",
    "        self.assertEqual([0, 0, 0, 0, 0, 0, 0, 4, 0, 0, 8], big_l_prime)\n",
    "        self.assertEqual([0, 0, 0, 0, 0, 0, 0, 4, 4, 4, 8], big_l)\n",
    "        self.assertEqual([11, 4, 4, 4, 4, 4, 4, 4, 1, 1, 1], small_l_prime)\n"
   ]
  },
  {
   "cell_type": "markdown",
   "metadata": {},
   "source": [
    "#Boyer-Moore Function"
   ]
  },
  {
   "cell_type": "code",
   "execution_count": 2,
   "metadata": {
    "collapsed": true
   },
   "outputs": [],
   "source": [
    "def boyer_moore(p, p_bm, t):\n",
    "    \"\"\" Do Boyer-Moore matching. p=pattern, t=text,\n",
    "        p_bm=BoyerMoore object for p \"\"\"\n",
    "    i = 0\n",
    "    occurrences = []\n",
    "    while i < len(t) - len(p) + 1:\n",
    "        shift = 1\n",
    "        mismatched = False\n",
    "        for j in range(len(p)-1, -1, -1):\n",
    "            if p[j] != t[i+j]:\n",
    "                skip_bc = p_bm.bad_character_rule(j, t[i+j])\n",
    "                skip_gs = p_bm.good_suffix_rule(j)\n",
    "                shift = max(shift, skip_bc, skip_gs)\n",
    "                mismatched = True\n",
    "                break\n",
    "        if not mismatched:\n",
    "            occurrences.append(i)\n",
    "            skip_gs = p_bm.match_skip()\n",
    "            shift = max(shift, skip_gs)\n",
    "        i += shift\n",
    "    return occurrences"
   ]
  },
  {
   "cell_type": "markdown",
   "metadata": {},
   "source": [
    "#Function of FASTA File Loading"
   ]
  },
  {
   "cell_type": "code",
   "execution_count": 3,
   "metadata": {
    "collapsed": true
   },
   "outputs": [],
   "source": [
    "def loadFasta(filename):\n",
    "    f = open(filename)\n",
    "    name = ''\n",
    "    dna = ''\n",
    "    \n",
    "    for line in f:\n",
    "        if line[0] == '>':\n",
    "            name = line[1:].rstrip()\n",
    "            \n",
    "        else:\n",
    "            dna += line.rstrip()\n",
    "    return name, dna"
   ]
  },
  {
   "cell_type": "markdown",
   "metadata": {},
   "source": [
    "#Load the FASTA File"
   ]
  },
  {
   "cell_type": "code",
   "execution_count": 4,
   "metadata": {
    "collapsed": false
   },
   "outputs": [],
   "source": [
    "file = 'chr1.GRCh38.excerpt.fasta'\n",
    "chromosome_name, chromosome_dna = loadFasta(file)"
   ]
  },
  {
   "cell_type": "markdown",
   "metadata": {},
   "source": [
    "**Measuring Boyer-Moore's benefit. First, **download the Python module for Boyer-Moore preprocessing:\n",
    "\n",
    "http://d28rh4a8wq0iu5.cloudfront.net/ads1/code/bm_preproc.py\n",
    "\n",
    "This module provides the BoyerMoore class, which encapsulates the preprocessing info used by the boyer_moore function above. Second, download the provided excerpt of human chromosome 1:\n",
    "\n",
    "http://d28rh4a8wq0iu5.cloudfront.net/ads1/data/chr1.GRCh38.excerpt.fasta\n",
    "\n",
    "Third, implement versions of the naive exact matching and Boyer-Moore algorithms that additionally count and return (a) the number of character comparisons performed and (b) the number of alignments tried. Roughly speaking, these measure how much work the two different algorithms are doing.\n",
    "\n",
    "For a few examples to help you test if your enhanced versions of the naive exact matching and Boyer-Moore algorithms are working properly, see these notebooks:\n",
    "\n",
    "Naive\n",
    "Boyer-Moore\n",
    "\n",
    "#Question 1\n",
    "How many alignments does the naive exact matching algorithm try when matching the string **GGCGCGGTGGCTCACGCCTGTAATCCCAGCACTTTGGGAGGCCGAGG** (derived from human Alu sequences) to the excerpt of human chromosome 1? (Don't consider reverse complements.)\n",
    "Answer for Question 1\n",
    "You entered:"
   ]
  },
  {
   "cell_type": "code",
   "execution_count": 5,
   "metadata": {
    "collapsed": true
   },
   "outputs": [],
   "source": [
    "def naive_alignment(p, t):\n",
    "    appearance = []\n",
    "    alignment = 0\n",
    "    \n",
    "    for i in range(len(t) - len(p) + 1):\n",
    "        alignment += 1\n",
    "        for j in range(len(p)):\n",
    "            match = True\n",
    "            if t[i + j] != p[j]:\n",
    "                match = False\n",
    "                break                \n",
    "        if match == True:\n",
    "            appearance.append(i)         \n",
    "   \n",
    "    return appearance, alignment"
   ]
  },
  {
   "cell_type": "code",
   "execution_count": 6,
   "metadata": {
    "collapsed": true
   },
   "outputs": [],
   "source": [
    "alu = 'GGCGCGGTGGCTCACGCCTGTAATCCCAGCACTTTGGGAGGCCGAGG'"
   ]
  },
  {
   "cell_type": "code",
   "execution_count": 7,
   "metadata": {
    "collapsed": false
   },
   "outputs": [
    {
     "data": {
      "text/plain": [
       "([56922], 799954)"
      ]
     },
     "execution_count": 7,
     "metadata": {},
     "output_type": "execute_result"
    }
   ],
   "source": [
    "naive_alignment(alu, chromosome_dna)"
   ]
  },
  {
   "cell_type": "markdown",
   "metadata": {},
   "source": [
    "#Answer: \n",
    "799954\n",
    "___________________"
   ]
  },
  {
   "cell_type": "markdown",
   "metadata": {},
   "source": [
    "#Question 2\n",
    "How many character comparisons does the naive exact matching algorithm try when matching the string GGCGCGGTGGCTCACGCCTGTAATCCCAGCACTTTGGGAGGCCGAGG (derived from human Alu sequences) to the excerpt of human chromosome 1? (Don't consider reverse complements.)"
   ]
  },
  {
   "cell_type": "code",
   "execution_count": 8,
   "metadata": {
    "collapsed": true
   },
   "outputs": [],
   "source": [
    "def naive_comparison(p, t):\n",
    "    appearance = []\n",
    "    comparison = 0\n",
    "    \n",
    "    for i in range(len(t) - len(p) + 1):\n",
    "        for j in range(len(p)):\n",
    "            comparison += 1\n",
    "            match = True\n",
    "            if t[i + j] != p[j]:\n",
    "                match = False\n",
    "                break                \n",
    "        if match == True:\n",
    "            appearance.append(i)         \n",
    "   \n",
    "    return appearance, comparison"
   ]
  },
  {
   "cell_type": "code",
   "execution_count": 9,
   "metadata": {
    "collapsed": false
   },
   "outputs": [
    {
     "data": {
      "text/plain": [
       "([56922], 984143)"
      ]
     },
     "execution_count": 9,
     "metadata": {},
     "output_type": "execute_result"
    }
   ],
   "source": [
    "naive_comparison(alu, chromosome_dna)"
   ]
  },
  {
   "cell_type": "markdown",
   "metadata": {},
   "source": [
    "#Answer:\n",
    "984143\n",
    "___________________________________________"
   ]
  },
  {
   "cell_type": "code",
   "execution_count": 10,
   "metadata": {
    "collapsed": false
   },
   "outputs": [
    {
     "data": {
      "text/plain": [
       "'GGCGCGGTGGCTCACGCCTGTAATCCCAGCACTTTGGGAGGCCGAGG'"
      ]
     },
     "execution_count": 10,
     "metadata": {},
     "output_type": "execute_result"
    }
   ],
   "source": [
    "alu"
   ]
  },
  {
   "cell_type": "markdown",
   "metadata": {},
   "source": [
    "#Question 3\n",
    "How many alignments does Boyer-Moore try when matching the string **GGCGCGGTGGCTCACGCCTGTAATCCCAGCACTTTGGGAGGCCGAGG** (derived from human Alu sequences) to the excerpt of human chromosome 1? (Don't consider reverse complements.)"
   ]
  },
  {
   "cell_type": "code",
   "execution_count": 11,
   "metadata": {
    "collapsed": true
   },
   "outputs": [],
   "source": [
    "def boyer_moore(p, p_bm, t):\n",
    "    \"\"\" Do Boyer-Moore matching. p=pattern, t=text,\n",
    "        p_bm=BoyerMoore object for p \"\"\"\n",
    "    i = 0\n",
    "    occurrences = []\n",
    "    alignment = 0\n",
    "    while i < len(t) - len(p) + 1:\n",
    "        alignment +=1\n",
    "        shift = 1\n",
    "        mismatched = False\n",
    "        for j in range(len(p)-1, -1, -1):\n",
    "            if p[j] != t[i+j]:\n",
    "                skip_bc = p_bm.bad_character_rule(j, t[i+j])\n",
    "                skip_gs = p_bm.good_suffix_rule(j)\n",
    "                shift = max(shift, skip_bc, skip_gs)\n",
    "                mismatched = True\n",
    "                break\n",
    "        if not mismatched:\n",
    "            occurrences.append(i)\n",
    "            skip_gs = p_bm.match_skip()\n",
    "            shift = max(shift, skip_gs)\n",
    "        i += shift\n",
    "    return occurrences, alignment"
   ]
  },
  {
   "cell_type": "code",
   "execution_count": 12,
   "metadata": {
    "collapsed": false
   },
   "outputs": [
    {
     "data": {
      "text/plain": [
       "([56922], 127974)"
      ]
     },
     "execution_count": 12,
     "metadata": {},
     "output_type": "execute_result"
    }
   ],
   "source": [
    "alu_bm = BoyerMoore(alu)\n",
    "boyer_moore(alu, alu_bm, chromosome_dna)"
   ]
  },
  {
   "cell_type": "markdown",
   "metadata": {},
   "source": [
    "#Answer:\n",
    "127974\n",
    "________"
   ]
  },
  {
   "cell_type": "markdown",
   "metadata": {},
   "source": [
    "#Question 4\n",
    "Index-assisted approximate matching. In practicals, we built a Python class called Index implementing an ordered-list version of the k-mer index. The Index class is copied below."
   ]
  },
  {
   "cell_type": "code",
   "execution_count": 13,
   "metadata": {
    "collapsed": true
   },
   "outputs": [],
   "source": [
    "__author__ = \"Ben Langmead\"\n",
    "\n",
    "import bisect\n",
    "\n",
    "\n",
    "class Index(object):\n",
    "    \"\"\" Holds a substring index for a text T \"\"\"\n",
    "\n",
    "    def __init__(self, t, k):\n",
    "        \"\"\" Create index from all substrings of t of length k \"\"\"\n",
    "        self.k = k  # k-mer length (k)\n",
    "        self.index = []\n",
    "        for i in range(len(t) - k + 1):  # for each k-mer\n",
    "            self.index.append((t[i:i+k], i))  # add (k-mer, offset) pair\n",
    "        self.index.sort()  # alphabetize by k-mer !!!!!! Attention, remember this sorting step!!!!\n",
    "\n",
    "    def query(self, p):\n",
    "        \"\"\" Return index hits for first k-mer of p \"\"\"\n",
    "        kmer = p[:self.k]  # query with first k-mer\n",
    "        i = bisect.bisect_left(self.index, (kmer, -1))  # binary search\n",
    "        hits = []\n",
    "        while i < len(self.index):  # collect matching index entries\n",
    "            if self.index[i][0] != kmer:\n",
    "                break\n",
    "            hits.append(self.index[i][1])\n",
    "            i += 1\n",
    "        return hits"
   ]
  },
  {
   "cell_type": "code",
   "execution_count": 14,
   "metadata": {
    "collapsed": true
   },
   "outputs": [],
   "source": [
    "def index_approximate_match(p, t, t_index, n):\n",
    "        segment_length = int(len(p) / (n + 1))\n",
    "        hits = []\n",
    "        all_match =set() # We use set to unique the repetitive items.\n",
    "        for c in range(n + 1):\n",
    "            start = c * segment_length\n",
    "            end = (c + 1) * segment_length\n",
    "            segment = p[start:end]\n",
    "            \n",
    "            i = bisect.bisect_left(t_index.index, (segment, -1))\n",
    "            \n",
    "            while i < len(t_index.index):\n",
    "                if segment != t_index.index[i][0]:\n",
    "                    break\n",
    "                else:\n",
    "                    t_offset = t_index.index[i][1]\n",
    "                    hits.append(t_offset)                    \n",
    "                i += 1            \n",
    "            \n",
    "            for h in hits:\n",
    "                if start > h or h-start+len(p) > len(t):\n",
    "                    continue\n",
    "                    \n",
    "                mismatch = 0\n",
    "                for x in range(0, start):\n",
    "                    if p[x] != t[h-start+x]:\n",
    "                        mismatch += 1\n",
    "                    if mismatch > n:\n",
    "                        break\n",
    "                        \n",
    "                for y in range(end, len(p)):\n",
    "                    if p[y] != t[h-start+y]:\n",
    "                        mismatch += 1\n",
    "                    if mismatch > n:\n",
    "                        break\n",
    "                        \n",
    "                if mismatch <=n:\n",
    "                    all_match.add(h-start) # We use set to unique the repetitive items.\n",
    "                                   \n",
    "        return hits, list(all_match)"
   ]
  },
  {
   "cell_type": "code",
   "execution_count": 15,
   "metadata": {
    "collapsed": true
   },
   "outputs": [],
   "source": [
    "chromosome_dna_index = Index(chromosome_dna, 8)"
   ]
  },
  {
   "cell_type": "markdown",
   "metadata": {},
   "source": [
    "We also implemented the pigeonhole principle using Boyer-Moore as our exact matching algorithm.\n",
    "\n",
    "Implement the pigeonhole principle using Index to find exact matches for the partitions. Assume P always has length 24, and that we are looking for approximate matches with up to 2 mismatches (substitutions). We will use an 8-mer index.\n",
    "\n",
    "Download the Python module for building a k-mer index.\n",
    "\n",
    "https://d28rh4a8wq0iu5.cloudfront.net/ads1/code/kmer_index.py\n",
    "\n",
    "Write a function that, given a length-24 pattern P and given an Index object built on 8-mers, finds all approximate occurrences of P within T with up to 2 mismatches. Insertions and deletions are not allowed. Don't consider any reverse complements.\n",
    "\n",
    "How many times does the string GGCGCGGTGGCTCACGCCTGTAAT, which is derived from a human Alu sequence, occur with up to 2 substitutions in the excerpt of human chromosome 1? (Don't consider reverse complements here.)\n",
    "\n",
    "Hint 1: Multiple index hits might direct you to the same match multiple times, but be careful not to count a match more than once.\n",
    "\n",
    "Hint 2: You can check your work by comparing the output of your new function to that of the naive_2mm function implemented in the previous module."
   ]
  },
  {
   "cell_type": "code",
   "execution_count": 16,
   "metadata": {
    "collapsed": true
   },
   "outputs": [],
   "source": [
    "p = 'GGCGCGGTGGCTCACGCCTGTAAT'\n",
    "hits, matches = index_approximate_match(p, chromosome_dna, chromosome_dna_index, 2)"
   ]
  },
  {
   "cell_type": "code",
   "execution_count": 17,
   "metadata": {
    "collapsed": false
   },
   "outputs": [
    {
     "data": {
      "text/plain": [
       "19"
      ]
     },
     "execution_count": 17,
     "metadata": {},
     "output_type": "execute_result"
    }
   ],
   "source": [
    "len(matches)"
   ]
  },
  {
   "cell_type": "markdown",
   "metadata": {},
   "source": [
    "#Answer:\n",
    "19"
   ]
  },
  {
   "cell_type": "markdown",
   "metadata": {},
   "source": [
    "#Question 5\n",
    "Using the instructions given in Question 4, how many total index hits are there when searching for occurrences of **GGCGCGGTGGCTCACGCCTGTAAT** with up to 2 substitutions in the excerpt of human chromosome 1?\n",
    "\n",
    "(Don't consider reverse complements.)\n",
    "Hint: You should be able to use the boyer_moore function (or the slower naive function) to double-check your answer."
   ]
  },
  {
   "cell_type": "code",
   "execution_count": 18,
   "metadata": {
    "collapsed": false
   },
   "outputs": [
    {
     "data": {
      "text/plain": [
       "90"
      ]
     },
     "execution_count": 18,
     "metadata": {},
     "output_type": "execute_result"
    }
   ],
   "source": [
    "len(hits)"
   ]
  },
  {
   "cell_type": "markdown",
   "metadata": {},
   "source": [
    "#Answer: \n",
    "90\n",
    "_____________"
   ]
  },
  {
   "cell_type": "markdown",
   "metadata": {},
   "source": [
    "#Question 6\n",
    "Let's examine whether there is a benefit to using an index built using subsequences of T rather than substrings, as we discussed in the \"Variations on k-mer indexes\" video. We'll consider subsequences involving every N characters. For example, if we split ATATAT into two substring partitions, we would get partitions ATA (the first half) and TAT (second half). But if we split ATATAT into two subsequences by taking every other character, we would get AAA (first, third and fifth characters) and TTT (second, fourth and sixth).\n",
    "\n",
    "Another way to visualize this is using numbers to show how each character of P is allocated to a partition. Splitting a length-6 pattern into two substrings could be represented as 111222, and splitting into two subsequences of every other character could be represented as 121212\n",
    "\n",
    "The following class SubseqIndex is a more general implementation of Index that additionally handles subsequences. It only considers subsequences that take every Nth character:"
   ]
  },
  {
   "cell_type": "code",
   "execution_count": 19,
   "metadata": {
    "collapsed": true
   },
   "outputs": [],
   "source": [
    "class SubseqIndex(object):\n",
    "    \"\"\" Holds a subsequence index for a text T \"\"\"\n",
    "    \n",
    "    def __init__(self, t, k, ival):\n",
    "        \"\"\" Create index from all subsequences consisting of k characters\n",
    "            spaced ival positions apart.  E.g., SubseqIndex(\"ATAT\", 2, 2)\n",
    "            extracts (\"AA\", 0) and (\"TT\", 1). \"\"\"\n",
    "        self.k = k  # num characters per subsequence extracted\n",
    "        self.ival = ival  # space between them; 1=adjacent, 2=every other, etc\n",
    "        self.index = []\n",
    "        self.span = 1 + ival * (k - 1)\n",
    "        for i in range(len(t) - self.span + 1):  # for each subseq\n",
    "            self.index.append((t[i:i+self.span:ival], i))  # add (subseq, offset)\n",
    "        self.index.sort()  # alphabetize by subseq\n",
    "    \n",
    "    def query(self, p):\n",
    "        \"\"\" Return index hits for first subseq of p \"\"\"\n",
    "        subseq = p[:self.span:self.ival]  # query with first subseq\n",
    "        i = bisect.bisect_left(self.index, (subseq, -1))  # binary search\n",
    "        hits = []\n",
    "        while i < len(self.index):  # collect matching index entries\n",
    "            if self.index[i][0] != subseq:\n",
    "                break\n",
    "            hits.append(self.index[i][1])\n",
    "            i += 1\n",
    "        return hits"
   ]
  },
  {
   "cell_type": "markdown",
   "metadata": {},
   "source": [
    "Write a function that, given a length-24 pattern P and given a SubseqIndex object built with k = 8 and ival = 3, finds all approximate occurrences of P within T with up to 2 mismatches.\n",
    "\n",
    "When using this function, how many total index hits are there when searching for GGCGCGGTGGCTCACGCCTGTAAT with up to 2 substitutions in the excerpt of human chromosome 1? (Again, don't consider reverse complements.)\n",
    "\n",
    "Hint: See this notebook for a few examples you can use to test your function."
   ]
  },
  {
   "cell_type": "code",
   "execution_count": 20,
   "metadata": {
    "collapsed": false
   },
   "outputs": [
    {
     "data": {
      "text/plain": [
       "35"
      ]
     },
     "execution_count": 20,
     "metadata": {},
     "output_type": "execute_result"
    }
   ],
   "source": [
    "t_subseq_index = SubseqIndex(chromosome_dna, 8, 3)\n",
    "len(t_subseq_index.query(p))"
   ]
  },
  {
   "cell_type": "code",
   "execution_count": 27,
   "metadata": {
    "collapsed": false
   },
   "outputs": [],
   "source": [
    "def index_approximate_subseq_match(p, t, t_subseq_index, n):\n",
    "    hits = []    \n",
    "    for position in range(3):\n",
    "        subseq = p[position:][:22:3]\n",
    "        \n",
    "        i = bisect.bisect_left(t_subseq_index.index, (subseq, -1))  # binary search\n",
    "\n",
    "        while i < len(t_subseq_index.index):  # collect matching index entries\n",
    "            if t_subseq_index.index[i][0] != subseq:\n",
    "                break\n",
    "            hits.append(t_subseq_index.index[i][1])\n",
    "            i += 1\n",
    "            \n",
    "    return hits"
   ]
  },
  {
   "cell_type": "code",
   "execution_count": 28,
   "metadata": {
    "collapsed": false
   },
   "outputs": [
    {
     "name": "stdout",
     "output_type": "stream",
     "text": [
      "GGGGCGTA\n",
      "GCTCACGA\n",
      "CGGTCCTT\n"
     ]
    }
   ],
   "source": [
    "hits = index_approximate_subseq_match(p, chromosome_dna, t_subseq_index, 2)"
   ]
  },
  {
   "cell_type": "code",
   "execution_count": 29,
   "metadata": {
    "collapsed": false,
    "scrolled": true
   },
   "outputs": [
    {
     "data": {
      "text/plain": [
       "79"
      ]
     },
     "execution_count": 29,
     "metadata": {},
     "output_type": "execute_result"
    }
   ],
   "source": [
    "len(hits)"
   ]
  },
  {
   "cell_type": "markdown",
   "metadata": {},
   "source": [
    "#Answer:\n",
    "79"
   ]
  }
 ],
 "metadata": {
  "kernelspec": {
   "display_name": "Python 3",
   "language": "python",
   "name": "python3"
  },
  "language_info": {
   "codemirror_mode": {
    "name": "ipython",
    "version": 3
   },
   "file_extension": ".py",
   "mimetype": "text/x-python",
   "name": "python",
   "nbconvert_exporter": "python",
   "pygments_lexer": "ipython3",
   "version": "3.4.3"
  }
 },
 "nbformat": 4,
 "nbformat_minor": 0
}
